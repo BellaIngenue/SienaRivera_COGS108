{
 "cells": [
  {
   "cell_type": "markdown",
   "metadata": {},
   "source": [
    "# COGS 108 - Data Checkpoint"
   ]
  },
  {
   "cell_type": "markdown",
   "metadata": {},
   "source": [
    "## Names\n",
    "\n",
    "- Ava Hamedi\n",
    "- Marc Mendoza\n",
    "- Jonathan Park\n",
    "- Daniel Renteria\n",
    "- Siena Rivera"
   ]
  },
  {
   "cell_type": "markdown",
   "metadata": {},
   "source": [
    "<a id='research_question'></a>\n",
    "# Research Question"
   ]
  },
  {
   "cell_type": "markdown",
   "metadata": {},
   "source": [
    "Did California Air Quality significantly improve in different areas due to the COVID-19 Pandemic and the change in car traffic volume? "
   ]
  },
  {
   "cell_type": "markdown",
   "metadata": {},
   "source": [
    "# Dataset(s)"
   ]
  },
  {
   "cell_type": "markdown",
   "metadata": {},
   "source": [
    "### Main Datasets\n",
    "\n",
    "- **Annual Air Quality by County**\n",
    "  - **Name:** annual_aqi_by_county_YEAR.csv\n",
    "  - [Link to the Dataset](https://aqs.epa.gov/aqsweb/airdata/download_files.html#Annual)\n",
    "  - **Description:** This dataset contains data and information on Annual Summary of Air Quality through years before 2000 until today. All Data use AQI (Air Quality Index) when applicable. The Measurement AQI is calculated based on the average concentration of a particular pollutant measured over a standard time interval (24 hours for most pollutants, 8 hours for carbon monoxide and ozone). We will be using this dataset to help understand and show the trend of Air Quality throughout years 2007 until today. This way, we can get a trend of how AQI has changed over the years before and through COVID-19.\n",
    "  - **Source:** EPA: AirData<br>\n",
    "<br>\n",
    "- **Annual Average Daily Traffic (AADT) Volumes (1)**\n",
    "  - **Name:** traffic_volumes_YEAR.csv\n",
    "  - [Link to the Dataset](https://dot.ca.gov/programs/traffic-operations/census)\n",
    "  - **Description:** In addition to Air Quality, our team wanted to look into the relationship between Air Quality and Car and Vehicular Traffic. This dataset contains data and information on Annual Average Daily Traffic Volumes through years 2017 until 2022. This and the following Datasets are the same kind of data but with different years. We will be using this dataset to help understand the average amount of Annual daily traffic through the California area. Although this dataset is more narrow, this will help us have a more narrow scope of information. In comparison to the one below which is the former years. In addition to gathering and cleaning this dataset, we will also be computing the average (mean) of the (Back and Forward Traffic) columns.\n",
    "  - **Source:** AQICN.org<br>\n",
    "  <br>\n",
    "- **Annual Average Daily Traffic (AADT) Volumes (2)**\n",
    "  - **Name:** traffic_volumes_YEAR.csv\n",
    "  - [Link to the Dataset](https://data.ca.gov/dataset/fb62fd37-38e5-40a5-89d1-cb58ae12f244/resource/0f021a84-ded0-488c-93b5-f331759ad9fd/download/aadt_2007-2017_shapefiles.gdb.zip)\n",
    "  - **Description:** This dataset contains data and information on Annual Average Daily Traffic Volumes through years 2007 until 2017. This and the former Datasets are the same kind of data but with different years. We will be using this dataset to help understand the average amount of Annual daily traffic through the California area. This dataset is more diverse, with over 10 years of data and information for our group to use, this will help us have a more wide scope of information. In addition to gathering and cleaning this  dataset, we will also be computing the average (mean) of the (Back and Forward Traffic) columns.\n",
    "  - **Source:** AQICN.org<br>\n",
    "<br>\n",
    "- **Annual Gasoline Sales by City**\n",
    "  - **Name:** gas_sales_by_city.csv\n",
    "  - [Link to the Dataset](https://www.energy.ca.gov/media/5869)\n",
    "  - **Description:** The chosen dataset contains data and information on Annual Gasoline Sales Volumes per City throughout the years 2010 until 2020. We will be cleaning the data and only provide data through years 2011 until 2020 to fit our research question time frame. We will be using this dataset to help understand the usage of gasoline throughout California, and use this to find a correlation to the Air Quality throughout California. Although the data is relatively clean, there are some changes we would like to make to make it easier to understand and work with. Since this dataset has the perfect time frame relative to what we are researching, it will provide our group the 10 years of data necessary to find meaningful relationships. Through this, we can get an idea of how Gasoline Sales Data has changed over the years prior to and during the COVID-19 pandemic, and how this has ultimately affected the AQI throughout California.\n",
    "  -**Source:** CEC: energy.ca.gov <br>\n",
    "\n",
    "<br>\n",
    " \n",
    "\n",
    "**Combining Data**: The datasets we have chosen will be combined and subsequently analyzed to give a measure of the overall relationship between Traffic, Air Quality, and Gasoline usage. From there, we want to look further into the addition of the COVID-19 Pandemic. Our team will be analyzing the causal relationship between the effects of COVID-19 on Air Quality stemming from a change in Car and Vehicular Traffic as well as a change in Gasoline sales. All of our information will be combined into one, larger dataset for the California Area. To answer our Research Question, our main priority is getting all of our data cleaned and ready for analysis."
   ]
  },
  {
   "cell_type": "markdown",
   "metadata": {},
   "source": [
    "# Setup"
   ]
  },
  {
   "cell_type": "code",
   "execution_count": 92,
   "metadata": {},
   "outputs": [],
   "source": [
    "# First make sure to have all packages installed on device (pip install pandas, numpy, seaborn, matplotlib, and etc)\n",
    "# import all packages after installing pip\n",
    "import pandas as pd\n",
    "import numpy as np\n",
    "import seaborn as sns\n",
    "import matplotlib as plt\n",
    "\n",
    "\n",
    "# Our Warnings when importing code will make it harder to concentrate on what is important\n",
    "import warnings\n",
    "warnings.filterwarnings('ignore')"
   ]
  },
  {
   "cell_type": "markdown",
   "metadata": {},
   "source": [
    "# Data Cleaning"
   ]
  },
  {
   "cell_type": "markdown",
   "metadata": {},
   "source": [
    "## Table of Contents\n",
    "\n",
    "- Air Quality in various regions\n",
    "- Car Traffic \n",
    "- Gasoline Consumption \n"
   ]
  },
  {
   "cell_type": "markdown",
   "metadata": {},
   "source": [
    "## Air Quality (AQI) Data\n",
    "\n",
    "### I. Annual Air Quality (AQI) by County\n",
    "First we will focus on the Air Quality (AQI) Data given to the team by the EPA. These dataset contained information for the years of 2010-2021. We only want to focus on years 2010-2021, so we will be removing data that does not fit into our timeline. All Data use AQI (Air Quality Index). The Measurement AQI is calculated based on the average concentration of a particular pollutant measured over a standard time interval (24 hours for most pollutants, 8 hours for carbon monoxide and ozone). We will be using this dataset to help understand and show the trend of Air Quality throughout years 2010 until today. This way, we can get a trend of how AQI has changed over the years before and through COVID-19.\n"
   ]
  },
  {
   "cell_type": "code",
   "execution_count": 111,
   "metadata": {},
   "outputs": [],
   "source": [
    "#importing data\n",
    "aqi_county_path = ['datasets/annual_aqi_by_county_2010.csv', \n",
    "                 'datasets/annual_aqi_by_county_2011.csv', \n",
    "                 'datasets/annual_aqi_by_county_2012.csv', \n",
    "                 'datasets/annual_aqi_by_county_2013.csv', \n",
    "                 'datasets/annual_aqi_by_county_2014.csv', \n",
    "                 'datasets/annual_aqi_by_county_2015.csv', \n",
    "                 'datasets/annual_aqi_by_county_2016.csv', \n",
    "                 'datasets/annual_aqi_by_county_2017.csv', \n",
    "                 'datasets/annual_aqi_by_county_2018.csv',\n",
    "                 'datasets/annual_aqi_by_county_2019.csv', \n",
    "                 'datasets/annual_aqi_by_county_2020.csv', \n",
    "                 'datasets/annual_aqi_by_county_2021.csv']"
   ]
  },
  {
   "cell_type": "code",
   "execution_count": 112,
   "metadata": {},
   "outputs": [],
   "source": [
    "#parsing data\n",
    "aqi_county_frames = []\n",
    "for path in aqi_county_path:\n",
    "    aqi_county_frames.append(pd.read_csv(path))\n",
    "aqi_county = pd.concat(aqi_county_frames, ignore_index = True)"
   ]
  },
  {
   "cell_type": "code",
   "execution_count": 113,
   "metadata": {},
   "outputs": [],
   "source": [
    "#columns to remove from files\n",
    "aqi_county_bad = ['Days with AQI', 'Good Days', 'Moderate Days', 'Unhealthy for Sensitive Groups Days',\n",
    "                  'Unhealthy Days', 'Very Unhealthy Days', 'Hazardous Days', 'Days CO', 'Days NO2',\n",
    "                  'Days Ozone', 'Days SO2', 'Days PM2.5', 'Days PM10']"
   ]
  },
  {
   "cell_type": "code",
   "execution_count": 114,
   "metadata": {},
   "outputs": [],
   "source": [
    "#dropping columns\n",
    "aqi_county.drop(aqi_county_bad, axis = 1, inplace = True)"
   ]
  },
  {
   "cell_type": "code",
   "execution_count": 115,
   "metadata": {},
   "outputs": [],
   "source": [
    "#dropping rows\n",
    "aqi_county_CA = aqi_county[aqi_county['State']=='California']"
   ]
  },
  {
   "cell_type": "code",
   "execution_count": 116,
   "metadata": {},
   "outputs": [],
   "source": [
    "#resetting index\n",
    "aqi_county_CA.reset_index(drop=True, inplace = True)"
   ]
  },
  {
   "cell_type": "code",
   "execution_count": 117,
   "metadata": {},
   "outputs": [
    {
     "data": {
      "text/html": [
       "<div>\n",
       "<style scoped>\n",
       "    .dataframe tbody tr th:only-of-type {\n",
       "        vertical-align: middle;\n",
       "    }\n",
       "\n",
       "    .dataframe tbody tr th {\n",
       "        vertical-align: top;\n",
       "    }\n",
       "\n",
       "    .dataframe thead th {\n",
       "        text-align: right;\n",
       "    }\n",
       "</style>\n",
       "<table border=\"1\" class=\"dataframe\">\n",
       "  <thead>\n",
       "    <tr style=\"text-align: right;\">\n",
       "      <th></th>\n",
       "      <th>State</th>\n",
       "      <th>County</th>\n",
       "      <th>Year</th>\n",
       "      <th>Max AQI</th>\n",
       "      <th>90th Percentile AQI</th>\n",
       "      <th>Median AQI</th>\n",
       "    </tr>\n",
       "  </thead>\n",
       "  <tbody>\n",
       "    <tr>\n",
       "      <th>0</th>\n",
       "      <td>California</td>\n",
       "      <td>Alameda</td>\n",
       "      <td>2010</td>\n",
       "      <td>179</td>\n",
       "      <td>68</td>\n",
       "      <td>43</td>\n",
       "    </tr>\n",
       "    <tr>\n",
       "      <th>1</th>\n",
       "      <td>California</td>\n",
       "      <td>Amador</td>\n",
       "      <td>2010</td>\n",
       "      <td>151</td>\n",
       "      <td>64</td>\n",
       "      <td>35</td>\n",
       "    </tr>\n",
       "    <tr>\n",
       "      <th>2</th>\n",
       "      <td>California</td>\n",
       "      <td>Butte</td>\n",
       "      <td>2010</td>\n",
       "      <td>126</td>\n",
       "      <td>84</td>\n",
       "      <td>47</td>\n",
       "    </tr>\n",
       "    <tr>\n",
       "      <th>3</th>\n",
       "      <td>California</td>\n",
       "      <td>Calaveras</td>\n",
       "      <td>2010</td>\n",
       "      <td>154</td>\n",
       "      <td>84</td>\n",
       "      <td>41</td>\n",
       "    </tr>\n",
       "    <tr>\n",
       "      <th>4</th>\n",
       "      <td>California</td>\n",
       "      <td>Colusa</td>\n",
       "      <td>2010</td>\n",
       "      <td>119</td>\n",
       "      <td>49</td>\n",
       "      <td>38</td>\n",
       "    </tr>\n",
       "  </tbody>\n",
       "</table>\n",
       "</div>"
      ],
      "text/plain": [
       "        State     County  Year  Max AQI  90th Percentile AQI  Median AQI\n",
       "0  California    Alameda  2010      179                   68          43\n",
       "1  California     Amador  2010      151                   64          35\n",
       "2  California      Butte  2010      126                   84          47\n",
       "3  California  Calaveras  2010      154                   84          41\n",
       "4  California     Colusa  2010      119                   49          38"
      ]
     },
     "execution_count": 117,
     "metadata": {},
     "output_type": "execute_result"
    }
   ],
   "source": [
    "aqi_county_CA.head()"
   ]
  },
  {
   "cell_type": "markdown",
   "metadata": {},
   "source": [
    "#### Columns\n",
    "- State: The state in which the Air Quality was measured. In our case, it is only California.\n",
    "- County: The county (of California) in which the Air Quality was measured.\n",
    "- Year: The year the Air Quality was measured.\n",
    "- Max AQI: The maximum AQI (worst air quality) that year.\n",
    "- 90th Percentile AQI: The 90th percentile AQI value that year.\n",
    "- Median AQI: The median AQI that year."
   ]
  },
  {
   "cell_type": "markdown",
   "metadata": {},
   "source": [
    "## Traffic Data\n",
    "\n",
    "### II. Annual Daily Traffic Data \n",
    "In addition to Air Quality, our team wanted to look into the relationship between Air Quality and Car and Vehicular Traffic. The chosen datasets contain data and information on Annual Average Daily Traffic Volumes through years 2007 until 2020. We will be using this dataset to help understand the average amount of Annual daily traffic through the state of California. We found this information via data.ca.gov, through the data that CalTrans gathers on traffic volumes. We only want to focus on a more narrow area and scope, so we will be cleaning up the datasets to help provide us with the best information. This way, we can also get a trend of how Annual Daily Traffic Data has changed over the years before and through COVID-19. We will also be showcasing the data in ways that are most intuitive. We will eventually be  grouping and taking the average (mean) of the (Back and Forward Traffic) columns. We will also only look at the AADT, the annual average, so we will drop all columns pertaining to daily measured peaks or monthly measures.\n"
   ]
  },
  {
   "cell_type": "code",
   "execution_count": 120,
   "metadata": {
    "scrolled": true
   },
   "outputs": [],
   "source": [
    "#importing data               \n",
    "traffic_path_1 = ['datasets/traffic_volumes_2007.csv',\n",
    "               'datasets/traffic_volumes_2008.csv',\n",
    "               'datasets/traffic_volumes_2009.csv',\n",
    "               'datasets/traffic_volumes_2010.csv',\n",
    "               'datasets/traffic_volumes_2011.csv',\n",
    "               'datasets/traffic_volumes_2012.csv',\n",
    "               'datasets/traffic_volumes_2013.csv',\n",
    "               'datasets/traffic_volumes_2014.csv',\n",
    "               'datasets/traffic_volumes_2015.csv',\n",
    "               'datasets/traffic_volumes_2016.csv',\n",
    "               'datasets/traffic_volumes_2017.csv']\n",
    "traffic_path_2 = ['datasets/traffic_volumes_2018.csv',\n",
    "               'datasets/traffic_volumes_2019.csv']\n",
    "traffic_path_3 = 'datasets/traffic_volumes_2020.csv'"
   ]
  },
  {
   "cell_type": "code",
   "execution_count": 121,
   "metadata": {},
   "outputs": [],
   "source": [
    "#parsing data\n",
    "traffic_frames_1 = []\n",
    "for path in traffic_path_1:\n",
    "    traffic_frames_1.append(pd.read_csv(path))\n",
    "traffic_1 = pd.concat(traffic_frames_1, ignore_index= True)"
   ]
  },
  {
   "cell_type": "code",
   "execution_count": 122,
   "metadata": {},
   "outputs": [],
   "source": [
    "traffic_frames_2 = []\n",
    "for path in traffic_path_2:\n",
    "    traffic_frames_2.append(pd.read_csv(path))\n",
    "traffic_2 = pd.concat(traffic_frames_2, ignore_index= True)"
   ]
  },
  {
   "cell_type": "code",
   "execution_count": 123,
   "metadata": {},
   "outputs": [],
   "source": [
    "traffic_3 = pd.read_csv(traffic_path_3)"
   ]
  },
  {
   "cell_type": "code",
   "execution_count": 124,
   "metadata": {},
   "outputs": [],
   "source": [
    "#columns to keep from files\n",
    "traffic_keep_1 = ['County', 'Back_AADT', 'Ahead_AADT']\n",
    "traffic_keep_2 = ['CNTY', 'BACK_AADT', 'AHEAD_AADT']\n",
    "traffic_keep_3 = ['COUNTY', 'BACK_AADT', 'AHEAD_AADT']"
   ]
  },
  {
   "cell_type": "code",
   "execution_count": 125,
   "metadata": {},
   "outputs": [],
   "source": [
    "#dropping, renaming columns\n",
    "traffic_1_cond = traffic_1[traffic_keep_1]\n",
    "traffic_2_cond = traffic_2[traffic_keep_2].rename(columns={'CNTY':'County', 'BACK_AADT':'Back_AADT', 'AHEAD_AADT':'Ahead_AADT'})\n",
    "traffic_3_cond = traffic_3[traffic_keep_3].rename(columns={'COUNTY':'County', 'BACK_AADT':'Back_AADT', 'AHEAD_AADT':'Ahead_AADT'})"
   ]
  },
  {
   "cell_type": "code",
   "execution_count": 126,
   "metadata": {},
   "outputs": [],
   "source": [
    "#combining dataframes\n",
    "traffic_frames_final = [traffic_1_cond, traffic_2_cond, traffic_3_cond]\n",
    "traffic = pd.concat(traffic_frames_final, ignore_index= True)"
   ]
  },
  {
   "cell_type": "code",
   "execution_count": 127,
   "metadata": {},
   "outputs": [],
   "source": [
    "#dropping null rows\n",
    "traffic.dropna(axis=0, inplace= True)"
   ]
  },
  {
   "cell_type": "code",
   "execution_count": 128,
   "metadata": {},
   "outputs": [],
   "source": [
    "#renaming row values\n",
    "full_name = {'ALA':'Alameda','ALP':'Alpine','AMA':'Amador','BUT':'Butte', 'CAL':'Calaveras', 'CC':'Contra Costa','COL':'Colusa','DN':'Del Norte','ED':'El Dorado','FRE':'Fresno','GLE':'Glenn','HUM':'Humboldt',\n",
    "            'IMP':'Imperial','INY':'Inyo','KER':'Kern','KIN':'Kings','LA':'Los Angeles','LAK':'Lake','LAS':'Lassen','MAD':'Madera','MEN':'Mendocino','MER':'Merced','MNO':'Mono','MOD':'Modoc','MON':'Monterey',\n",
    "            'MPA':'Mariposa','MRN':'Marin','NAP':'Napa','NEV':'Nevada','ORA':'Orange','PLA':'Placer','PLU':'Plumas','RIV':'Riverside','SAC':'Sacramento','SB':'Santa Barbara','SBD':'San Bernardino',\n",
    "            'SBT':'San Benito','SCL':'Santa Clara','SCR':'Santa Cruz','SD':'San Diego', 'SF': 'San Francisco','SHA':'Shasta','SIE':'Sierra','SIS':'Siskiyou', 'SJ':'San Joaquin', 'SLO': 'San Luis Obispo',\n",
    "            'SM':'San Mateo','SOL':'Solano','SON':'Sonoma','STA':'Stanislaus','SUT':'Sutter','TEH':'Tehama','TRI':'Trinity','TUL':'Tulare','TUO':'Tuolumne','VEN':'Ventura','YOL':'Yolo','YUB':'Yuba'}\n",
    "traffic['County'] = traffic['County'].replace(full_name)"
   ]
  },
  {
   "cell_type": "code",
   "execution_count": 138,
   "metadata": {},
   "outputs": [
    {
     "data": {
      "text/html": [
       "<div>\n",
       "<style scoped>\n",
       "    .dataframe tbody tr th:only-of-type {\n",
       "        vertical-align: middle;\n",
       "    }\n",
       "\n",
       "    .dataframe tbody tr th {\n",
       "        vertical-align: top;\n",
       "    }\n",
       "\n",
       "    .dataframe thead th {\n",
       "        text-align: right;\n",
       "    }\n",
       "</style>\n",
       "<table border=\"1\" class=\"dataframe\">\n",
       "  <thead>\n",
       "    <tr style=\"text-align: right;\">\n",
       "      <th></th>\n",
       "      <th>County</th>\n",
       "      <th>Back_AADT</th>\n",
       "      <th>Ahead_AADT</th>\n",
       "      <th>Mean_AADT</th>\n",
       "    </tr>\n",
       "  </thead>\n",
       "  <tbody>\n",
       "    <tr>\n",
       "      <th>0</th>\n",
       "      <td>Alameda</td>\n",
       "      <td>301232550.0</td>\n",
       "      <td>294978200.0</td>\n",
       "      <td>298105375.0</td>\n",
       "    </tr>\n",
       "    <tr>\n",
       "      <th>1</th>\n",
       "      <td>Alpine</td>\n",
       "      <td>342560.0</td>\n",
       "      <td>343275.0</td>\n",
       "      <td>342917.5</td>\n",
       "    </tr>\n",
       "    <tr>\n",
       "      <th>2</th>\n",
       "      <td>Amador</td>\n",
       "      <td>4694750.0</td>\n",
       "      <td>4292950.0</td>\n",
       "      <td>4493850.0</td>\n",
       "    </tr>\n",
       "    <tr>\n",
       "      <th>3</th>\n",
       "      <td>Butte</td>\n",
       "      <td>21355250.0</td>\n",
       "      <td>21016740.0</td>\n",
       "      <td>21185995.0</td>\n",
       "    </tr>\n",
       "    <tr>\n",
       "      <th>4</th>\n",
       "      <td>Calaveras</td>\n",
       "      <td>3699350.0</td>\n",
       "      <td>3554910.0</td>\n",
       "      <td>3627130.0</td>\n",
       "    </tr>\n",
       "  </tbody>\n",
       "</table>\n",
       "</div>"
      ],
      "text/plain": [
       "      County    Back_AADT   Ahead_AADT    Mean_AADT\n",
       "0    Alameda  301232550.0  294978200.0  298105375.0\n",
       "1     Alpine     342560.0     343275.0     342917.5\n",
       "2     Amador    4694750.0    4292950.0    4493850.0\n",
       "3      Butte   21355250.0   21016740.0   21185995.0\n",
       "4  Calaveras    3699350.0    3554910.0    3627130.0"
      ]
     },
     "execution_count": 138,
     "metadata": {},
     "output_type": "execute_result"
    }
   ],
   "source": [
    "#grouping by county, then adding mean AADT column\n",
    "traffic_counties = traffic.groupby('County').sum().reset_index()[1:].reset_index().drop(columns='index')\n",
    "AADT_mean = (traffic_counties['Back_AADT'] + traffic_counties['Ahead_AADT'])/2\n",
    "traffic_counties['Mean_AADT'] = AADT_mean\n",
    "traffic_counties.head()"
   ]
  },
  {
   "cell_type": "markdown",
   "metadata": {},
   "source": [
    "### Columns\n",
    "- County: California county where the traffic volume was measured.\n",
    "- Back_AADT: The total count of vehicles measured at the \"back\" of a measured road (before traffic light or intersection).\n",
    "- Ahead_AADT: The total count of vehicles measured at the \"front\" of a measured road (past traffic light or intersection).\n",
    "- Mean_AADT: The mean of Back_AADT and Ahead_AADT."
   ]
  },
  {
   "cell_type": "markdown",
   "metadata": {},
   "source": [
    "## Gasoline Sales Data\n",
    "\n",
    "### III. Annual Gasoline Sales Data \n",
    "In addition to Vehicle Traffic, our team wanted to look into the relationship between Air Quality and Gasoline usage. The chosen dataset contains data and information on Annual Gasoline Sales Volumes per City throughout the years 2010 until 2020, however, we will be cleaning the data and only provide data through years 2011 until 2020. We will be using this dataset to help understand the usage of gasoline throughout California, and use this to find a correlation to the Air Quality. Although the data is relatively clean, there are some changes we would like to make to make it easier to understand and work with. Through this, we can get an idea of how Gasoline Sales Data has changed over the years prior to and during the COVID-19 pandemic, and how this has ultimately affected the AQI throughout California.\n"
   ]
  },
  {
   "cell_type": "code",
   "execution_count": 139,
   "metadata": {},
   "outputs": [
    {
     "data": {
      "text/html": [
       "<div>\n",
       "<style scoped>\n",
       "    .dataframe tbody tr th:only-of-type {\n",
       "        vertical-align: middle;\n",
       "    }\n",
       "\n",
       "    .dataframe tbody tr th {\n",
       "        vertical-align: top;\n",
       "    }\n",
       "\n",
       "    .dataframe thead th {\n",
       "        text-align: right;\n",
       "    }\n",
       "</style>\n",
       "<table border=\"1\" class=\"dataframe\">\n",
       "  <thead>\n",
       "    <tr style=\"text-align: right;\">\n",
       "      <th></th>\n",
       "      <th>City</th>\n",
       "      <th>2011</th>\n",
       "      <th>2012</th>\n",
       "      <th>2013</th>\n",
       "      <th>2014</th>\n",
       "      <th>2015</th>\n",
       "      <th>2016</th>\n",
       "      <th>2017</th>\n",
       "      <th>2018</th>\n",
       "      <th>2019</th>\n",
       "      <th>2020</th>\n",
       "    </tr>\n",
       "  </thead>\n",
       "  <tbody>\n",
       "    <tr>\n",
       "      <th>0</th>\n",
       "      <td>Los Angeles</td>\n",
       "      <td>576,975,774</td>\n",
       "      <td>569,572,568</td>\n",
       "      <td>513,096,586</td>\n",
       "      <td>462,203,720</td>\n",
       "      <td>489,927,305</td>\n",
       "      <td>577,624,448</td>\n",
       "      <td>597,482,538</td>\n",
       "      <td>553,325,286</td>\n",
       "      <td>551,182,317</td>\n",
       "      <td>434,124,374</td>\n",
       "    </tr>\n",
       "    <tr>\n",
       "      <th>1</th>\n",
       "      <td>San Diego</td>\n",
       "      <td>435,507,017</td>\n",
       "      <td>418,994,094</td>\n",
       "      <td>350,573,480</td>\n",
       "      <td>382,951,006</td>\n",
       "      <td>429,738,409</td>\n",
       "      <td>458,149,963</td>\n",
       "      <td>478,402,573</td>\n",
       "      <td>463,772,772</td>\n",
       "      <td>454,951,806</td>\n",
       "      <td>351,446,047</td>\n",
       "    </tr>\n",
       "    <tr>\n",
       "      <th>2</th>\n",
       "      <td>Sacramento</td>\n",
       "      <td>259,938,992</td>\n",
       "      <td>260,349,538</td>\n",
       "      <td>255,080,126</td>\n",
       "      <td>174,054,379</td>\n",
       "      <td>255,968,575</td>\n",
       "      <td>278,560,889</td>\n",
       "      <td>283,805,191</td>\n",
       "      <td>264,019,029</td>\n",
       "      <td>278,151,293</td>\n",
       "      <td>245,128,423</td>\n",
       "    </tr>\n",
       "    <tr>\n",
       "      <th>3</th>\n",
       "      <td>San Jose</td>\n",
       "      <td>299,816,301</td>\n",
       "      <td>292,742,725</td>\n",
       "      <td>278,676,054</td>\n",
       "      <td>218,224,534</td>\n",
       "      <td>286,512,916</td>\n",
       "      <td>324,059,453</td>\n",
       "      <td>318,609,135</td>\n",
       "      <td>298,305,348</td>\n",
       "      <td>311,325,761</td>\n",
       "      <td>234,628,392</td>\n",
       "    </tr>\n",
       "    <tr>\n",
       "      <th>4</th>\n",
       "      <td>Bakersfield</td>\n",
       "      <td>193,751,205</td>\n",
       "      <td>193,930,997</td>\n",
       "      <td>178,563,239</td>\n",
       "      <td>168,800,299</td>\n",
       "      <td>181,022,100</td>\n",
       "      <td>221,473,122</td>\n",
       "      <td>216,668,139</td>\n",
       "      <td>204,619,282</td>\n",
       "      <td>204,009,437</td>\n",
       "      <td>190,635,868</td>\n",
       "    </tr>\n",
       "    <tr>\n",
       "      <th>...</th>\n",
       "      <td>...</td>\n",
       "      <td>...</td>\n",
       "      <td>...</td>\n",
       "      <td>...</td>\n",
       "      <td>...</td>\n",
       "      <td>...</td>\n",
       "      <td>...</td>\n",
       "      <td>...</td>\n",
       "      <td>...</td>\n",
       "      <td>...</td>\n",
       "      <td>...</td>\n",
       "    </tr>\n",
       "    <tr>\n",
       "      <th>367</th>\n",
       "      <td>Paradise</td>\n",
       "      <td>9,459,933</td>\n",
       "      <td>6,628,310</td>\n",
       "      <td>6,579,072</td>\n",
       "      <td>6,023,551</td>\n",
       "      <td>7,181,204</td>\n",
       "      <td>10,214,292</td>\n",
       "      <td>10,009,953</td>\n",
       "      <td>7,693,650</td>\n",
       "      <td>1,599,028</td>\n",
       "      <td>2,930,659</td>\n",
       "    </tr>\n",
       "    <tr>\n",
       "      <th>368</th>\n",
       "      <td>Dos Palos</td>\n",
       "      <td>1,963,102</td>\n",
       "      <td>2,158,303</td>\n",
       "      <td>3,144,116</td>\n",
       "      <td>3,119,857</td>\n",
       "      <td>2,549,044</td>\n",
       "      <td>3,678,522</td>\n",
       "      <td>3,361,169</td>\n",
       "      <td>2,728,566</td>\n",
       "      <td>2,379,250</td>\n",
       "      <td>2,157,239</td>\n",
       "    </tr>\n",
       "    <tr>\n",
       "      <th>369</th>\n",
       "      <td>Quincy</td>\n",
       "      <td>4,531,877</td>\n",
       "      <td>2,418,894</td>\n",
       "      <td>1,577,234</td>\n",
       "      <td>2,659,001</td>\n",
       "      <td>2,221,433</td>\n",
       "      <td>1,927,929</td>\n",
       "      <td>2,672,375</td>\n",
       "      <td>3,464,343</td>\n",
       "      <td>1,831,817</td>\n",
       "      <td>2,112,113</td>\n",
       "    </tr>\n",
       "    <tr>\n",
       "      <th>370</th>\n",
       "      <td>Angels Camp</td>\n",
       "      <td>2,797,978</td>\n",
       "      <td>1,663,664</td>\n",
       "      <td>1,045,570</td>\n",
       "      <td>1,470,884</td>\n",
       "      <td>1,913,018</td>\n",
       "      <td>2,215,584</td>\n",
       "      <td>2,286,907</td>\n",
       "      <td>2,178,426</td>\n",
       "      <td>2,288,752</td>\n",
       "      <td>1,774,643</td>\n",
       "    </tr>\n",
       "    <tr>\n",
       "      <th>371</th>\n",
       "      <td>Needles</td>\n",
       "      <td>2,450,049</td>\n",
       "      <td>1,585,251</td>\n",
       "      <td>1,794,034</td>\n",
       "      <td>1,828,995</td>\n",
       "      <td>2,259,731</td>\n",
       "      <td>2,065,422</td>\n",
       "      <td>2,129,009</td>\n",
       "      <td>2,201,664</td>\n",
       "      <td>2,170,556</td>\n",
       "      <td>1,564,649</td>\n",
       "    </tr>\n",
       "  </tbody>\n",
       "</table>\n",
       "<p>372 rows × 11 columns</p>\n",
       "</div>"
      ],
      "text/plain": [
       "            City            2011            2012            2013  \\\n",
       "0    Los Angeles    576,975,774     569,572,568     513,096,586    \n",
       "1      San Diego    435,507,017     418,994,094     350,573,480    \n",
       "2     Sacramento    259,938,992     260,349,538     255,080,126    \n",
       "3       San Jose    299,816,301     292,742,725     278,676,054    \n",
       "4    Bakersfield    193,751,205     193,930,997     178,563,239    \n",
       "..           ...             ...             ...             ...   \n",
       "367     Paradise      9,459,933       6,628,310       6,579,072    \n",
       "368    Dos Palos      1,963,102       2,158,303       3,144,116    \n",
       "369       Quincy      4,531,877       2,418,894       1,577,234    \n",
       "370  Angels Camp      2,797,978       1,663,664       1,045,570    \n",
       "371      Needles      2,450,049       1,585,251       1,794,034    \n",
       "\n",
       "               2014            2015            2016            2017  \\\n",
       "0      462,203,720     489,927,305     577,624,448     597,482,538    \n",
       "1      382,951,006     429,738,409     458,149,963     478,402,573    \n",
       "2      174,054,379     255,968,575     278,560,889     283,805,191    \n",
       "3      218,224,534     286,512,916     324,059,453     318,609,135    \n",
       "4      168,800,299     181,022,100     221,473,122     216,668,139    \n",
       "..              ...             ...             ...             ...   \n",
       "367      6,023,551       7,181,204      10,214,292      10,009,953    \n",
       "368      3,119,857       2,549,044       3,678,522       3,361,169    \n",
       "369      2,659,001       2,221,433       1,927,929       2,672,375    \n",
       "370      1,470,884       1,913,018       2,215,584       2,286,907    \n",
       "371      1,828,995       2,259,731       2,065,422       2,129,009    \n",
       "\n",
       "               2018            2019            2020  \n",
       "0      553,325,286     551,182,317     434,124,374   \n",
       "1      463,772,772     454,951,806     351,446,047   \n",
       "2      264,019,029     278,151,293     245,128,423   \n",
       "3      298,305,348     311,325,761     234,628,392   \n",
       "4      204,619,282     204,009,437     190,635,868   \n",
       "..              ...             ...             ...  \n",
       "367      7,693,650       1,599,028       2,930,659   \n",
       "368      2,728,566       2,379,250       2,157,239   \n",
       "369      3,464,343       1,831,817       2,112,113   \n",
       "370      2,178,426       2,288,752       1,774,643   \n",
       "371      2,201,664       2,170,556       1,564,649   \n",
       "\n",
       "[372 rows x 11 columns]"
      ]
     },
     "execution_count": 139,
     "metadata": {},
     "output_type": "execute_result"
    }
   ],
   "source": [
    "# Import Data\n",
    "gas_sales = pd.read_csv('datasets/gas_sales_by_city.csv')\n",
    "\n",
    "# Drop 2010 Column\n",
    "gas_sales.drop(labels=\"2010\", axis = 1, inplace = True)\n",
    "\n",
    "#Drop null values (if any)\n",
    "gas_sales.dropna(axis=0, inplace= True)\n",
    "\n",
    "# Format City Column\n",
    "gas_sales['City'] = gas_sales['City'].str.title()\n",
    "gas_sales\n"
   ]
  },
  {
   "cell_type": "markdown",
   "metadata": {},
   "source": [
    "The units being used to track gasoline sales over the 10 years in the dataset are in 1000 gallon units. There are a total of 11 columns where one is for the City names, and the other ten are for the years 2011 through 2020, the years where gasoline sales were being tracked. There are a total of 372 rows for the cities that actually had gasoline sales data, with their respective gasoline sales per year."
   ]
  }
 ],
 "metadata": {
  "kernelspec": {
   "display_name": "Python 3 (ipykernel)",
   "language": "python",
   "name": "python3"
  },
  "language_info": {
   "codemirror_mode": {
    "name": "ipython",
    "version": 3
   },
   "file_extension": ".py",
   "mimetype": "text/x-python",
   "name": "python",
   "nbconvert_exporter": "python",
   "pygments_lexer": "ipython3",
   "version": "3.9.7"
  }
 },
 "nbformat": 4,
 "nbformat_minor": 4
}
