{
 "cells": [
  {
   "cell_type": "markdown",
   "metadata": {},
   "source": [
    "# COGS 108 - Data Checkpoint"
   ]
  },
  {
   "cell_type": "markdown",
   "metadata": {},
   "source": [
    "## Names\n",
    "\n",
    "- Ava Hamedi\n",
    "- Marc Mendoza\n",
    "- Jonathan Park\n",
    "- Daniel Renteria\n",
    "- Siena Rivera"
   ]
  },
  {
   "cell_type": "markdown",
   "metadata": {},
   "source": [
    "<a id='research_question'></a>\n",
    "# Research Question"
   ]
  },
  {
   "cell_type": "markdown",
   "metadata": {},
   "source": [
    "Did California Air Quality significantly improve during the years of 2011-2022 due to the COVID-19 Pandemic and the change in car traffic volume? "
   ]
  },
  {
   "cell_type": "markdown",
   "metadata": {},
   "source": [
    "# Dataset(s)"
   ]
  },
  {
   "cell_type": "markdown",
   "metadata": {},
   "source": [
    "### Main Datasets\n",
    "\n",
    "- **Annual Air Quality by County**\n",
    "  - **Name:** annual_aqi_by_county_YEAR.csv\n",
    "  - [Link to the Dataset](https://aqs.epa.gov/aqsweb/airdata/download_files.html#Annual)\n",
    "  - **Description:** This dataset contains data and information on Annual Summary of Air Quality through years before 2000 until today. All Data use AQI (Air Quality Index) when applicable. The Measurement AQI is calculated based on the average concentration of a particular pollutant measured over a standard time interval (24 hours for most pollutants, 8 hours for carbon monoxide and ozone). We will be using this dataset to help understand and show the trend of Air Quality throughout years 2007 until today. This way, we can get a trend of how AQI has changed over the years before and through COVID-19.\n",
    "  - **Source:** EPA: AirData<br>\n",
    "<br>\n",
    "- **Annual Average Daily Traffic (AADT) Volumes (1)**\n",
    "  - **Name:** traffic_volumes_YEAR.csv\n",
    "  - [Link to the Dataset](https://dot.ca.gov/programs/traffic-operations/census)\n",
    "  - **Description:** In addition to Air Quality, our team wanted to look into the relationship between Air Quality and Car and Vehicular Traffic. This dataset contains data and information on Annual Average Daily Traffic Volumes through years 2017 until 2022. This and the following Datasets are the same kind of data but with different years. We will be using this dataset to help understand the average amount of Annual daily traffic through the California area. Although this dataset is more narrow, this will help us have a more narrow scope of information. In comparison to the one below which is the former years. In addition to gathering and cleaning this dataset, we will also be computing the average (mean) of the (Back and Forward Traffic) columns.\n",
    "  - **Source:** AQICN.org<br>\n",
    "  <br>\n",
    "- **Annual Average Daily Traffic (AADT) Volumes (2)**\n",
    "  - **Name:** traffic_volumes_YEAR.csv\n",
    "  - [Link to the Dataset](https://data.ca.gov/dataset/fb62fd37-38e5-40a5-89d1-cb58ae12f244/resource/0f021a84-ded0-488c-93b5-f331759ad9fd/download/aadt_2007-2017_shapefiles.gdb.zip)\n",
    "  - **Description:** This dataset contains data and information on Annual Average Daily Traffic Volumes through years 2007 until 2017. This and the former Datasets are the same kind of data but with different years. We will be using this dataset to help understand the average amount of Annual daily traffic through the California area. This dataset is more diverse, with over 10 years of data and information for our group to use, this will help us have a more wide scope of information. In addition to gathering and cleaning this  dataset, we will also be computing the average (mean) of the (Back and Forward Traffic) columns.\n",
    "  - **Source:** AQICN.org<br>\n",
    " \n",
    "\n",
    "**Combining Data**: The datasets we have chosen will be combined and subsequently analyzed to give a measure of the overall relationship between Traffic and Air Quality. From there, we want to look further into the addition of the COVID-19 Pandemic. Our team will be analyzing the causal relationship between the effects of COVID-19 on Air Quality stemming from a change in Car and Vehicular Traffic. All of our information will be combined into one, larger dataset for the California Area. To answer our Research Question, our main priority is getting all of our data cleaned and ready for analysis."
   ]
  },
  {
   "cell_type": "markdown",
   "metadata": {},
   "source": [
    "# Setup"
   ]
  },
  {
   "cell_type": "code",
   "execution_count": 1,
   "metadata": {},
   "outputs": [],
   "source": [
    "# First make sure to have all packages installed on device (pip install pandas, numpy, seaborn, matplotlib, and etc)\n",
    "# import all packages after installing pip\n",
    "import pandas as pd\n",
    "import numpy as np\n",
    "import seaborn as sns\n",
    "import matplotlib as plt\n",
    "\n",
    "\n",
    "# Our Warnings when importing code will make it harder to concentrate on what is important\n",
    "import warnings\n",
    "warnings.filterwarnings('ignore')"
   ]
  },
  {
   "cell_type": "markdown",
   "metadata": {},
   "source": [
    "# Data Cleaning"
   ]
  },
  {
   "cell_type": "markdown",
   "metadata": {},
   "source": [
    "## Table of Contents\n",
    "\n",
    "- Air Quality (AQI) Data BEFORE (<2020) and DURING (2020-2022) COVID-19 \n",
    "- Traffic Volumes BEFORE (<2020) and DURING (2020-2022) COVID-19 \n"
   ]
  },
  {
   "cell_type": "markdown",
   "metadata": {},
   "source": [
    "## Air Quality (AQI) Data\n",
    "\n",
    "### I. Annual Air Quality (AQI) by County\n",
    "First we will focus on the Air Quality (AQI) Data given to the team by EPA. This dataset contained information for the years of 2011-2021. We will be cleaning up the information on Annual Summary of Air Quality through years before 2000 until today. We only want to focus on years 2011-Today, so we will be removing data that does not fit into our timeline. All Data use AQI (Air Quality Index) when applicable. The Measurement AQI is calculated based on the average concentration of a particular pollutant measured over a standard time interval (24 hours for most pollutants, 8 hours for carbon monoxide and ozone). We will be using this dataset to help understand and show the trend of Air Quality throughout years 2007 until today. This way, we can get a trend of how AQI has changed over the years before and through COVID-19.\n"
   ]
  },
  {
   "cell_type": "markdown",
   "metadata": {},
   "source": [
    "## Traffic Data\n",
    "\n",
    "### II. Annual Daily Traffic Data \n",
    "In addition to Air Quality, our team wanted to look into the relationship between Air Quality and Car and Vehicular Traffic. The chosen datasets contain data and information on Annual Average Daily Traffic Volumes through years 2007 until 2022. We will be using this dataset to help understand the average amount of Annual daily traffic through the California area. We only want to focus on a more narrow area and scope, so we will be cleaning up the datasets to help provide us with the best information. This way, we can also get a trend of how Annual Daily Traffic Data has changed over the years before and through COVID-19. We will also be showcasing the data in ways that are most intuitive. We will be  grouping and taking the average (mean) of the (Back and Forward Traffic) columns.\n"
   ]
  },
  {
   "cell_type": "code",
   "execution_count": 2,
   "metadata": {
    "scrolled": true
   },
   "outputs": [],
   "source": [
    "#importing data\n",
    "aqi_county_path = ['datasets/annual_aqi_by_county_2010.csv', \n",
    "                 'datasets/annual_aqi_by_county_2011.csv', \n",
    "                 'datasets/annual_aqi_by_county_2012.csv', \n",
    "                 'datasets/annual_aqi_by_county_2013.csv', \n",
    "                 'datasets/annual_aqi_by_county_2014.csv', \n",
    "                 'datasets/annual_aqi_by_county_2015.csv', \n",
    "                 'datasets/annual_aqi_by_county_2016.csv', \n",
    "                 'datasets/annual_aqi_by_county_2017.csv', \n",
    "                 'datasets/annual_aqi_by_county_2018.csv',\n",
    "                 'datasets/annual_aqi_by_county_2019.csv', \n",
    "                 'datasets/annual_aqi_by_county_2020.csv', \n",
    "                 'datasets/annual_aqi_by_county_2021.csv']\n",
    "                 \n",
    "traffic_path = ['datasets/2007_Traffic.csv']"
   ]
  },
  {
   "cell_type": "code",
   "execution_count": 3,
   "metadata": {},
   "outputs": [],
   "source": [
    "#parsing data\n",
    "aqi_county_frames = []\n",
    "for path in aqi_county_path:\n",
    "    aqi_county_frames.append(pd.read_csv(path))\n",
    "aqi_county = pd.concat(aqi_county_frames, ignore_index = True)\n",
    "\n",
    "traffic_frames = []\n",
    "for path in traffic_path:\n",
    "    traffic_frames.append(pd.read_csv(path))\n",
    "traffic = pd.concat(traffic_frames, ignore_index= True)"
   ]
  },
  {
   "cell_type": "code",
   "execution_count": 4,
   "metadata": {},
   "outputs": [
    {
     "data": {
      "text/plain": [
       "Index(['District', 'Route', 'County', 'Postmile', 'Description',\n",
       "       'Back_Peak_Hour', 'Back_Peak_Month', 'Back_AADT', 'Ahead_Peak_Hour',\n",
       "       'Ahead_Peak_Month', 'Ahead_AADT'],\n",
       "      dtype='object')"
      ]
     },
     "execution_count": 4,
     "metadata": {},
     "output_type": "execute_result"
    }
   ],
   "source": [
    "traffic.columns"
   ]
  },
  {
   "cell_type": "code",
   "execution_count": 5,
   "metadata": {},
   "outputs": [],
   "source": [
    "#columns to remove from files\n",
    "aqi_county_bad = ['Days with AQI', 'Good Days', 'Moderate Days', 'Unhealthy for Sensitive Groups Days',\n",
    "                  'Unhealthy Days', 'Very Unhealthy Days', 'Hazardous Days', 'Days CO', 'Days NO2',\n",
    "                  'Days Ozone', 'Days SO2', 'Days PM2.5', 'Days PM10']\n",
    "\n",
    "traffic_bad = ['District', 'Route', 'Postmile', 'Description']"
   ]
  },
  {
   "cell_type": "code",
   "execution_count": 6,
   "metadata": {},
   "outputs": [],
   "source": [
    "#dropping columns\n",
    "aqi_county.drop(aqi_county_bad, axis = 1, inplace = True)\n",
    "traffic.drop(traffic_bad, axis = 1, inplace = True)"
   ]
  },
  {
   "cell_type": "code",
   "execution_count": 7,
   "metadata": {},
   "outputs": [],
   "source": [
    "#dropping rows\n",
    "aqi_county_CA = aqi_county[aqi_county['State']=='California']\n",
    "traffic.dropna(axis=0, inplace= True)"
   ]
  },
  {
   "cell_type": "code",
   "execution_count": 8,
   "metadata": {},
   "outputs": [],
   "source": [
    "#resetting index\n",
    "aqi_county_CA.reset_index(drop=True, inplace = True)"
   ]
  },
  {
   "cell_type": "code",
   "execution_count": 9,
   "metadata": {
    "scrolled": true
   },
   "outputs": [
    {
     "data": {
      "text/html": [
       "<div>\n",
       "<style scoped>\n",
       "    .dataframe tbody tr th:only-of-type {\n",
       "        vertical-align: middle;\n",
       "    }\n",
       "\n",
       "    .dataframe tbody tr th {\n",
       "        vertical-align: top;\n",
       "    }\n",
       "\n",
       "    .dataframe thead th {\n",
       "        text-align: right;\n",
       "    }\n",
       "</style>\n",
       "<table border=\"1\" class=\"dataframe\">\n",
       "  <thead>\n",
       "    <tr style=\"text-align: right;\">\n",
       "      <th></th>\n",
       "      <th>State</th>\n",
       "      <th>County</th>\n",
       "      <th>Year</th>\n",
       "      <th>Max AQI</th>\n",
       "      <th>90th Percentile AQI</th>\n",
       "      <th>Median AQI</th>\n",
       "    </tr>\n",
       "  </thead>\n",
       "  <tbody>\n",
       "    <tr>\n",
       "      <th>0</th>\n",
       "      <td>California</td>\n",
       "      <td>Alameda</td>\n",
       "      <td>2010</td>\n",
       "      <td>179</td>\n",
       "      <td>68</td>\n",
       "      <td>43</td>\n",
       "    </tr>\n",
       "    <tr>\n",
       "      <th>1</th>\n",
       "      <td>California</td>\n",
       "      <td>Amador</td>\n",
       "      <td>2010</td>\n",
       "      <td>151</td>\n",
       "      <td>64</td>\n",
       "      <td>35</td>\n",
       "    </tr>\n",
       "    <tr>\n",
       "      <th>2</th>\n",
       "      <td>California</td>\n",
       "      <td>Butte</td>\n",
       "      <td>2010</td>\n",
       "      <td>126</td>\n",
       "      <td>84</td>\n",
       "      <td>47</td>\n",
       "    </tr>\n",
       "    <tr>\n",
       "      <th>3</th>\n",
       "      <td>California</td>\n",
       "      <td>Calaveras</td>\n",
       "      <td>2010</td>\n",
       "      <td>154</td>\n",
       "      <td>84</td>\n",
       "      <td>41</td>\n",
       "    </tr>\n",
       "    <tr>\n",
       "      <th>4</th>\n",
       "      <td>California</td>\n",
       "      <td>Colusa</td>\n",
       "      <td>2010</td>\n",
       "      <td>119</td>\n",
       "      <td>49</td>\n",
       "      <td>38</td>\n",
       "    </tr>\n",
       "  </tbody>\n",
       "</table>\n",
       "</div>"
      ],
      "text/plain": [
       "        State     County  Year  Max AQI  90th Percentile AQI  Median AQI\n",
       "0  California    Alameda  2010      179                   68          43\n",
       "1  California     Amador  2010      151                   64          35\n",
       "2  California      Butte  2010      126                   84          47\n",
       "3  California  Calaveras  2010      154                   84          41\n",
       "4  California     Colusa  2010      119                   49          38"
      ]
     },
     "execution_count": 9,
     "metadata": {},
     "output_type": "execute_result"
    }
   ],
   "source": [
    "aqi_county_CA.head()"
   ]
  },
  {
   "cell_type": "code",
   "execution_count": 10,
   "metadata": {},
   "outputs": [],
   "source": [
    "#renaming row values\n",
    "full_name = {'ALA':'Alameda','ALP':'Alpine','AMA':'Amador','BUT':'Butte', 'CAL':'Calaveras', 'CC':'Contra Costa','COL':'Colusa','DN':'Del Norte','ED':'El Dorado','FRE':'Fresno','GLE':'Glenn','HUM':'Humboldt',\n",
    "            'IMP':'Imperial','INY':'Inyo','KER':'Kern','KIN':'Kings','LA':'Los Angeles','LAK':'Lake','LAS':'Lassen','MAD':'Madera','MEN':'Mendocino','MER':'Merced','MNO':'Mono','MOD':'Modoc','MON':'Monterey',\n",
    "            'MPA':'Mariposa','MRN':'Marin','NAP':'Napa','NEV':'Nevada','ORA':'Orange','PLA':'Placer','PLU':'Plumas','RIV':'Riverside','SAC':'Sacramento','SB':'Santa Barbara','SBD':'San Bernardino',\n",
    "            'SBT':'San Benito','SCL':'Santa Clara','SCR':'Santa Cruz','SD':'San Diego', 'SF': 'San Francisco','SHA':'Shasta','SIE':'Sierra','SIS':'Siskiyou', 'SJ':'San Joaquin', 'SLO': 'San Luis Obispo',\n",
    "            'SM':'San Mateo','SOL':'Solano','SON':'Sonoma','STA':'Stanislaus','SUT':'Sutter','TEH':'Tehama','TRI':'Trinity','TUL':'Tulare','TUO':'Tuolumne','VEN':'Ventura','YOL':'Yolo','YUB':'Yuba'}\n",
    "traffic['County'] = traffic['County'].replace(full_name)\n"
   ]
  },
  {
   "cell_type": "code",
   "execution_count": 11,
   "metadata": {},
   "outputs": [
    {
     "data": {
      "text/html": [
       "<div>\n",
       "<style scoped>\n",
       "    .dataframe tbody tr th:only-of-type {\n",
       "        vertical-align: middle;\n",
       "    }\n",
       "\n",
       "    .dataframe tbody tr th {\n",
       "        vertical-align: top;\n",
       "    }\n",
       "\n",
       "    .dataframe thead th {\n",
       "        text-align: right;\n",
       "    }\n",
       "</style>\n",
       "<table border=\"1\" class=\"dataframe\">\n",
       "  <thead>\n",
       "    <tr style=\"text-align: right;\">\n",
       "      <th></th>\n",
       "      <th>County</th>\n",
       "      <th>Back_Peak_Hour</th>\n",
       "      <th>Back_Peak_Month</th>\n",
       "      <th>Back_AADT</th>\n",
       "      <th>Ahead_Peak_Hour</th>\n",
       "      <th>Ahead_Peak_Month</th>\n",
       "      <th>Ahead_AADT</th>\n",
       "    </tr>\n",
       "  </thead>\n",
       "  <tbody>\n",
       "    <tr>\n",
       "      <th>1</th>\n",
       "      <td>Orange</td>\n",
       "      <td>3800.0</td>\n",
       "      <td>40500.0</td>\n",
       "      <td>37500.0</td>\n",
       "      <td>4000</td>\n",
       "      <td>43000</td>\n",
       "      <td>39500</td>\n",
       "    </tr>\n",
       "    <tr>\n",
       "      <th>2</th>\n",
       "      <td>Orange</td>\n",
       "      <td>4000.0</td>\n",
       "      <td>43000.0</td>\n",
       "      <td>39500.0</td>\n",
       "      <td>2350</td>\n",
       "      <td>32000</td>\n",
       "      <td>29500</td>\n",
       "    </tr>\n",
       "    <tr>\n",
       "      <th>3</th>\n",
       "      <td>Orange</td>\n",
       "      <td>2350.0</td>\n",
       "      <td>32000.0</td>\n",
       "      <td>29500.0</td>\n",
       "      <td>2900</td>\n",
       "      <td>39000</td>\n",
       "      <td>36500</td>\n",
       "    </tr>\n",
       "    <tr>\n",
       "      <th>4</th>\n",
       "      <td>Orange</td>\n",
       "      <td>2900.0</td>\n",
       "      <td>39000.0</td>\n",
       "      <td>36500.0</td>\n",
       "      <td>2900</td>\n",
       "      <td>39000</td>\n",
       "      <td>36500</td>\n",
       "    </tr>\n",
       "    <tr>\n",
       "      <th>5</th>\n",
       "      <td>Orange</td>\n",
       "      <td>2900.0</td>\n",
       "      <td>39000.0</td>\n",
       "      <td>36500.0</td>\n",
       "      <td>3650</td>\n",
       "      <td>43500</td>\n",
       "      <td>40500</td>\n",
       "    </tr>\n",
       "  </tbody>\n",
       "</table>\n",
       "</div>"
      ],
      "text/plain": [
       "   County  Back_Peak_Hour  Back_Peak_Month  Back_AADT  Ahead_Peak_Hour  \\\n",
       "1  Orange          3800.0          40500.0    37500.0             4000   \n",
       "2  Orange          4000.0          43000.0    39500.0             2350   \n",
       "3  Orange          2350.0          32000.0    29500.0             2900   \n",
       "4  Orange          2900.0          39000.0    36500.0             2900   \n",
       "5  Orange          2900.0          39000.0    36500.0             3650   \n",
       "\n",
       "   Ahead_Peak_Month  Ahead_AADT  \n",
       "1             43000       39500  \n",
       "2             32000       29500  \n",
       "3             39000       36500  \n",
       "4             39000       36500  \n",
       "5             43500       40500  "
      ]
     },
     "execution_count": 11,
     "metadata": {},
     "output_type": "execute_result"
    }
   ],
   "source": [
    "traffic.head()"
   ]
  }
 ],
 "metadata": {
  "kernelspec": {
   "display_name": "Python 3 (ipykernel)",
   "language": "python",
   "name": "python3"
  },
  "language_info": {
   "codemirror_mode": {
    "name": "ipython",
    "version": 3
   },
   "file_extension": ".py",
   "mimetype": "text/x-python",
   "name": "python",
   "nbconvert_exporter": "python",
   "pygments_lexer": "ipython3",
   "version": "3.10.1"
  }
 },
 "nbformat": 4,
 "nbformat_minor": 4
}
