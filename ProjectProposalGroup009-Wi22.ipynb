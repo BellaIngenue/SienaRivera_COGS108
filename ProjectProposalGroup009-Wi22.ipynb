{
 "cells": [
  {
   "cell_type": "markdown",
   "metadata": {},
   "source": [
    "# COGS 108 - Final Project Proposal"
   ]
  },
  {
   "cell_type": "markdown",
   "metadata": {
    "tags": []
   },
   "source": [
    "## Names\n",
    "- Ava Hamedi\n",
    "- Marc Mendoza\n",
    "- Jonathan Park\n",
    "- Daniel Renteria\n",
    "- Siena Rivera\n"
   ]
  },
  {
   "cell_type": "markdown",
   "metadata": {},
   "source": [
    "# Research Question"
   ]
  },
  {
   "cell_type": "markdown",
   "metadata": {},
   "source": [
    "In what regards did California Air Quality change through 2017-2021 due to the COVID-19 Pandemic affecting the Tech, Agriculture, and Manufacturing industries?"
   ]
  },
  {
   "cell_type": "markdown",
   "metadata": {},
   "source": [
    "## Background and Prior Work"
   ]
  },
  {
   "cell_type": "markdown",
   "metadata": {},
   "source": [
    "**Why this topic is of interest to us:**\n",
    "\n",
    "As a society we have all been incredibly affected by the COVID-19 Pandemic, our group thought it would be interesting to check the differences in Air Quality from (2017-2022) specifically in the State of California due to pandemic affecting Tech, agriculture, and manufacturing. Since Air Quality affects every single creature on this planet earth, we want to understand how the COVID-19 pandemic and its impact on industries affected the quality of the air we breathe every day. We know many companies and factories have permanently shut down during pandemic and many others decided to go permanently or temporarily remote. These all led to the question in our minds about how these variables affected Air Quality. By narrowing our region and time down, we should be able to find information and data to help provide a better conclusion to our posed Research Question. As a collective, we agreed that this project could provide information for society to learn from.\n",
    "\n",
    "- https://fortune.com/2020/09/28/covid-buisnesses-shut-down-closed/\n",
    "\n",
    "- https://www.wsj.com/articles/covid-19s-toll-on-u-s-business-200-000-extra-closures-in-pandemics-first-year-11618580619\n",
    "\n",
    "\n",
    "**What background information led you to your hypothesis:**\n",
    "\n",
    "Since many companies and manufacturers switched to remote work or were closed during the pandemic, a lot of people stayed home due to the fact that some of them decided to not work for a while, and some did their job online. One of the positive impacts of remote jobs is less commuting to work and therefore less carbon pollution in the air. Similarly, the shutdown of international/domestic airports also led to a huge decrease in fossil fuel usage. “Remote working means fewer people are on the roads. As already mentioned, the transport sector is among the number one producers of greenhouse gases. When people work from home, it means less fossil fuel combustion and better air quality”(1)\n",
    "\n",
    "The COVID-19 pandemic also affected agriculture and has kept the farm economy down. Due to this, a lot of farmers sold their lands and stopped farming. On the other hand, agriculture has a negative impact on Air Quality. “Increasing evidence shows that the greater size and intensity of farms and concentrated animal-feeding operations (CAFOs) increase the emissions of odorous compounds (e.g., organic acids) and trace gases (e.g., carbon dioxide (CO2), methane (CH4), nitrous oxide (N2O), nitrogen oxides (NOx), ammonia (NH3), and reduced sulfur compounds, such as hydrogen sulfide (H2S)) to the atmosphere”(3)\n",
    "\n",
    "“Many manufacturing processes involve heating raw materials to transform them into more useful forms. Oil refining, for instance, is a process called fractional distillation that heats petroleum to high temperatures to separate it into various grades of gasoline and other petroleum products. Doing so releases sulfur dioxide into the air. Other manufacturing types use heat from coal or diesel furnaces to provide steam power to run the plant. Burning these fuels can also release pollutants into the air.”(4) Covid-19 pandemic caused many manufacturing jobs and many factories shut down, therefore there was less pollution released into the air.\n",
    "\n",
    "All these variables and information led us to our hypothesis about covid-19 pandemic having a positive impact on Air Quality.\n",
    "\n",
    "- https://emagazine.com/the-impact-of-remote-work-on-climate-change/\n",
    "\n",
    "- https://www.fb.org/viewpoints/yes-there-are-covid-19-impacts-on-agriculture1\n",
    "\n",
    "- https://pubs.acs.org/doi/10.1021/es8024403#:~:text=Agricultural%20air%20pollutants%20contribute%20to,greenhouse%20gas%20emissions%20and%20aerosols.\n",
    "\n",
    "- https://smallbusiness.chron.com/manufacturing-pollution-37013.html\n",
    "\n",
    "**Why this topic is important:**\n",
    "Air quality is a major factor when it comes to health and air pollution is a risk to health. Breathing clean air will decrease the number of diseases like heart diseases, stroke, asthma, and lung cancer so knowing what affects the quality of air is important. Across the world, life has incredibly changed due to COVID-19 and the stressors the pandemic has put on everyone. In regards to COVID-19, there are many variables that could be affecting Air Quality, but our group wants to understand which variables are impacting Air Quality most. In order to check which variables are contributing most, we will be looking into different confounding variables.\n",
    "\n",
    "**What has already been done on this topic?**\n",
    "\n",
    "There have been several studies that have looked at the overall changes in Air Quality since COVID-19. However, our group wanted to specialize in a smaller portion and just focus on the State of California.\n",
    "\n",
    "One study is Air Quality Across Countries in Covid-19 which includes different countries around the world and is for the years 2020-2021. \n",
    "- https://www.kaggle.com/aestheteaman01/air-quality-across-countries-in-covid19\n",
    "\n",
    "Another study is called Breathe India: COVID-19 effect on Pollution which only studied lockdown effect in India. \n",
    "- https://www.kaggle.com/parulpandey/breathe-india-covid-19-effect-on-pollution"
   ]
  },
  {
   "cell_type": "markdown",
   "metadata": {},
   "source": [
    "# Hypothesis\n"
   ]
  },
  {
   "cell_type": "markdown",
   "metadata": {},
   "source": [
    "*We hypothesize that COVID-19 has had an overal good effect on Air Quality based on AQI (Air Quality Index). We think that regions with a higher density/population would have had a more positive change in AQI than rural regions. We acknowledge that there may be some confounding varaibles including industry, population per capita, and lockdown restrictions.*"
   ]
  },
  {
   "cell_type": "markdown",
   "metadata": {},
   "source": [
    "# Dataset(s)"
   ]
  },
  {
   "cell_type": "markdown",
   "metadata": {},
   "source": [
    "Our ideal dataset would include:\n",
    "\n",
    "**Variables**: \n",
    "- Air Quality (AQI)\n",
    "- COVID-19 Rates\n",
    "- Population and Density\n",
    "- Job Titles\n",
    "\n",
    "**Possible Confouding Variables:**\n",
    "- Types of Industry in Regions\n",
    "- Population per Capita\n",
    "- Lockdown Restrictions\n",
    "\n",
    "**Observations:**\n",
    "- Years: 2017-2021\n",
    "- General Population: California, USA\n",
    "\n",
    "**How to Collect Data:**\n",
    "Use Kaggle, and the previously mentioned Datasets. \n",
    "\n",
    "**How to Store Data:**\n",
    "Pandas and Numpy for data organization and storage.\n"
   ]
  },
  {
   "cell_type": "markdown",
   "metadata": {},
   "source": [
    "# Ethics & Privacy"
   ]
  },
  {
   "cell_type": "markdown",
   "metadata": {},
   "source": [
    "**Do we have permission to use this data?**\n",
    "\n",
    "As all of the data we have collected is open to the public for fair use, our group has permission to use this data and for this purpose. All of our datasets for our variables: Air Quality, COVID-19 Rates, Tax Income, and Job Titles are from Kaggle, EPA and EIA. Which are all open to the public for viewing, education and for use. \n",
    "\n",
    "**Are there privacy concerns regarding your datasets that you need to deal with, and/or terms of use that you need to comply with?**\n",
    "\n",
    "The air quality data that will be used for our project was collected by AirNow, which is \"A partnership of the U.S. Environmental Protection Agency, National Oceanic and Atmospheric Administration (NOAA), National Park Service, NASA, Centers for Disease Control, and tribal, state, and local air quality agencies\"(1). This data is publicly available through government websites and is free from personally identifiable information, which protects us from many privacy concerns that we may otherwise need to be worried about. Given that none of the air quality data was ever associated with an individial, we believe that this would be safe to legally use. \n",
    "\n",
    "As for the data regarding industries across the state of California, any data we find regarding this will be cleaned and sorted to make sure that any personal identifying information that could associate any individuals with any particular job will be removed and anonymized. We are looking for this data through websites such as Kaggle or Our World in Data and through government websites that provide open-source, free use datasets, so we expect that we shouldn't run into too many complications with privacy, as much of the data has already been released to adhere to data privacy laws.\n",
    "\n",
    "**Are there potential biases in your dataset(s), in terms of who it composes, and how it was collected, that may be problematic in terms of it allowing for equitable analysis?**\n",
    "\n",
    "Looking ahead at the kind of datasets we will be using, it is possible that there could exist potential biases. In air quality data for the state of California, it is possible that some areas are underrepresented or misrepresented due to either a) a lack of adequate air quality measurement tools or b) air quality measurement tools being placed in non-ideal locations for a fair assessment of the actual air quality of the local region. Depending on the average wealth and population of the region, there could be a difference in care of how the data was gathered, which may lead to biased results.\n",
    "\n",
    "For data about industries in California, we will likely use census information or data gathered by a third party associating certain regions with certain industries, so the biases we must be cognizant of are who the data was collected by and for what purpose. We think that census data should be largely free of bias given that the point is simply gather information about the citizenry, but if we are looking into datasets collected by third parties, we must also be aware of why the data was gathered in the first place. If the data was gathered for a biased purpose, such as looking into which industries are \"best\" in California by an agricultural group, we should be wary of using that data because of the biases that may come with it. Thus, we will look into finding datasets that have data about California regional industries gathered for a non-biased purpose.\n",
    "\n",
    "**What will we be doing with this data?**\n",
    "\n",
    "We will be using this data only for the purpose of only our COGS 108 Final assignment. We do not intend to ever use this project for monetary use, this is strictly for educational purposes only.\n",
    "\n",
    "\n",
    "\n",
    "1) https://www.airnow.gov/about-airnow/"
   ]
  },
  {
   "cell_type": "markdown",
   "metadata": {},
   "source": [
    "# Team Expectations "
   ]
  },
  {
   "cell_type": "markdown",
   "metadata": {},
   "source": [
    "*Ava's Expectations:*\n",
    "I expect my teammates to be respectful, show up for the meetings, and do their part. As a team I also expect us to be considerate and patient.\n",
    "\n",
    "*Jonathan's Expectations:*\n",
    "I expect our group to have good communication throughout the project process. I understand that things can come up for everyone and work could be delayed, but as long as we are in clear communication with each other about our progress and the challenges we are facing, then I think we will do an amazing job.\n",
    "\n",
    "*Marc's Expectations:*\n",
    "I expect my group (including myself) will be responsible and committed to accomplish our project, and be able to coordinate properly for meetings, pair-programming sessions, and other team-involved tasks needed to be completed for our research question. I expect everybody will be respectful of one-another's skill-levels as well as understanding of other schoolwork and/or personal obligations, and be able to cooperate accordingly to get our tasks done.\n",
    "\n",
    "*Daniel's Expectations:* \n",
    "So far my expectations of the group have far exceeded anything I could have come up with. I don't have to worry about what my other group members do. Instead I have to worry about making sure my work and effort matches theirs.\n",
    "\n",
    "*Siena's Expectations:*\n",
    "I have expectations that we as a group will be responsible, hard-working and put time and energy into this project. So far, our communication has been splendid and while we've encountered some errors, things are going very well so far!\n",
    "\n"
   ]
  },
  {
   "cell_type": "markdown",
   "metadata": {},
   "source": [
    "# Project Timeline Proposal"
   ]
  },
  {
   "cell_type": "markdown",
   "metadata": {},
   "source": [
    "| Meeting Date  | Meeting Time| Completed Before Meeting  | Discuss at Meeting |\n",
    "|---|---|---|---|\n",
    "| 1/14  |  5 PM | Read & Think about COGS 108 expectations; brainstorm topics/questions  | Use and setup Discord and Email Communcations; Discuss and decide on final project topic; discuss hypothesis; begin background research | \n",
    "| 1/25  |  5 PM | Do background research on topic; Search for more Datasets | Discuss ideal dataset(s) and ethics; draft project proposal | \n",
    "| 1/27  | 5 PM  | Edit, finalize, and submit proposal | Discuss Wrangling and possible analytical approaches; Assign group members to lead each specific part |\n",
    "| 2/4  | 5 PM  | Import & Wrangle Data | Review/Edit wrangling/EDA; Discuss Analysis Plan   |\n",
    "| 2/11  | 5 PM  | Finalize wrangling/EDA; Begin Analysis | Discuss/edit Analysis; Complete project check-in |\n",
    "| 2/22  | 5 PM  | Complete analysis; Draft results/conclusion/discussion| Discuss/edit full project |\n",
    "| 3/08  | 5 PM  | Complete the last touches; Draft any last ideas| Discuss in a call all the final parts |\n",
    "| 3/19  | Before 11:59 PM  | NA | Turn in Final Project & Group Project Surveys |"
   ]
  },
  {
   "cell_type": "code",
   "execution_count": null,
   "metadata": {},
   "outputs": [],
   "source": []
  }
 ],
 "metadata": {
  "kernelspec": {
   "display_name": "Python 3 (ipykernel)",
   "language": "python",
   "name": "python3"
  },
  "language_info": {
   "codemirror_mode": {
    "name": "ipython",
    "version": 3
   },
   "file_extension": ".py",
   "mimetype": "text/x-python",
   "name": "python",
   "nbconvert_exporter": "python",
   "pygments_lexer": "ipython3",
   "version": "3.10.1"
  }
 },
 "nbformat": 4,
 "nbformat_minor": 4
}
