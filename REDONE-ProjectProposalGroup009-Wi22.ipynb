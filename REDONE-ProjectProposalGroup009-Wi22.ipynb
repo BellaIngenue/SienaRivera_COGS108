{
 "cells": [
  {
   "cell_type": "markdown",
   "metadata": {},
   "source": [
    "# COGS 108 - Final Project Proposal"
   ]
  },
  {
   "cell_type": "markdown",
   "metadata": {
    "tags": []
   },
   "source": [
    "## Names\n",
    "- Ava Hamedi\n",
    "- Marc Mendoza\n",
    "- Jonathan Park\n",
    "- Daniel Renteria\n",
    "- Siena Rivera\n"
   ]
  },
  {
   "cell_type": "markdown",
   "metadata": {},
   "source": [
    "# Research Question"
   ]
  },
  {
   "cell_type": "markdown",
   "metadata": {},
   "source": [
    "Did California Air Quality significantly improve during the years of 2011-2022 due to the COVID-19 Pandemic and the change in car traffic volume? "
   ]
  },
  {
   "cell_type": "markdown",
   "metadata": {},
   "source": [
    "## Background and Prior Work"
   ]
  },
  {
   "cell_type": "markdown",
   "metadata": {},
   "source": [
    "As a society we have all been incredibly affected by the COVID-19 Pandemic, our group thought it would be interesting to check the differences in Air Quality from (2011-2022) specifically in the State of California due to the pandemic and the change in the car traffic volume. Since Air Quality affects every single creature on this planet earth, we want to understand how the COVID-19 pandemic affected the quality of the air we breathe every day. By narrowing our region and time down, we should be able to find information and data to help provide a better conclusion to our posed Research Question. As a collective, we agreed that this project could provide information for society to learn from.\n",
    "\n",
    "At the end of 2019, governments across the world have issued stay-at-home lockdown orders to help reduce the number of COVID-19 cases.  Consequently, the car traffic volume has significantly decreased since many companies and manufacturers switched to remote work or were closed during the pandemic, a lot of people stayed home due to the fact that some of them decided to not work for a while, and some did their job online. Similarly, all schools, colleges, and universities switched to remote instruction. One of the positive impacts of remote jobs and instruction is less commuting to work and school, and therefore less carbon pollution in the air. “Remote working means fewer people are on the roads. As mentioned, the transport sector is among the number one producers of greenhouse gases. When people work from home, it means less fossil fuel combustion and better air quality”[<sup>1</sup>](#fn1)\n",
    "\n",
    "Car traffic has a significant role in air pollution. “In urban areas, traffic is one of the major sources of air pollutants. The mixture of vehicle exhausts, secondary pollutants formed in the atmosphere, evaporative emissions from vehicles, and non-combustion emissions (e.g., road dust, tire wear) is referred to as traffic-related air pollution (TRAP)” [<sup>2</sup>](#fn1)\n",
    "\n",
    "Based on this, we hypothesize that the COVID-19 pandemic had a positive impact on air quality in the state of California. \n",
    "\n",
    "Air quality is a major factor when it comes to health, and air pollution is a risk to health. Breathing clean air will decrease the number of diseases like heart diseases, stroke, asthma, and lung cancer so knowing what affects the quality of air is important. Across the world, life has incredibly changed due to COVID-19 and the stressors the pandemic has put on everyone. In regards to COVID-19, there are many variables that could be affecting air quality, but our group focuses on car traffic and how its change affected air quality. \n",
    "\n",
    "\n",
    "**What has already been done on this topic?**\n",
    "\n",
    "\n",
    "Several studies have been done across the world that have looked at the overall changes in air quality since COVID-19. These studies show that air quality has improved during the pandemic.\n",
    "These studies show that air pollutants like NO2 and PM2.5 have significantly decreased during the pandemic and therefore improved the quality of the air. “Before stay-at-home orders were issued March 16, Zhu said, the EPA’s Air Quality Index, which incorporates multiple air pollutants, including NO2 and PM2.5 (fine particulate matter), was about 60, or in the “moderate” category. Since then, it has improved by about 20 percent and recorded the longest stretch of “good” air quality in March seen since at least 1995” [<sup>3</sup>](#fn1)\n",
    "\n",
    "Another study called Effect of COVID-19 on air quality and pollution in different countries, states that the spread of COVID-19 and the lockdown led to a decrease in pollutants levels in the air and therefore improved air quality in industrial countries. [<sup>4</sup>](#fn1)\n",
    "\n",
    "Another study called 2020 COVID-19 lockdown and the impacts on air quality with emphasis on urban, suburban and rural zones.   This study shows an improvement in the quality of the air in different areas like rural and urban across the countries. [<sup>5</sup>](#fn1)\n",
    "\n",
    " One study is Air Quality Across Countries in Covid-19 which includes different countries around the world and is for the years 2020-2021.[<sup>6</sup>](#fn1)\n",
    "Another study is called Breathe India: COVID-19 effect on Pollution which only studied lockdown effect in India[<sup>7</sup>](#fn1)\n",
    "\n",
    "Several studies have been done about air quality during the COVID-19 pandemic, However, our group wanted to specialize in a smaller portion and just focus on the State of California.\n",
    "\n",
    "\n",
    "\n",
    "\n",
    "\n",
    "\n",
    " [<sup id=\"fn1\">1</sup>](#fn1-back) [Remote Work through Climate Change](https://emagazine.com/the-impact-of-remote-work-on-climate-change/)<br>\n",
    " \n",
    " [<sup id=\"fn1\">2</sup>](#fn1-back) [ Human health effects of traffic-related air pollution (TRAP): a scoping review protocol](https://systematicreviewsjournal.biomedcentral.com/articles/10.1186/s13643-019-1106-5#:~:text=In%20urban%20areas%2C%20traffic%20is,related%20air%20pollution%20(TRAP).)\n",
    "<br>\n",
    "\n",
    " [<sup id=\"fn1\">3</sup>](#fn1-back) [ The silver lining to coronavirus lockdowns: Air quality is improving](https://www.washingtonpost.com/weather/2020/04/09/air-quality-improving-coronavirus/)<br>\n",
    "\n",
    "\n",
    " [<sup id=\"fn1\">4</sup>](#fn1-back) [ Effect of COVID-19 on air quality and pollution in different countries](https://pubmed.ncbi.nlm.nih.gov/33816115/#:~:text=Results%3A%20After%20the%20disease%20spread,and%20agreements%20could%20not%20reach)<br>\n",
    "\n",
    "\n",
    "\n",
    " [<sup id=\"fn1\">5</sup>](#fn1-back) [2020 COVID-19 lockdown and the impacts on air quality with emphasis on urban, suburban and rural zones](https://www.nature.com/articles/s41598-021-99491-7)<br>\n",
    "\n",
    "\n",
    "[<sup id=\"fn1\">6</sup>](#fn1-back) [Air Quality Across Countries in COVID-19](https://www.kaggle.com/aestheteaman01/air-quality-across-countries-in-covid19)<br>\n",
    "\n",
    "[<sup id=\"fn1\">7</sup>](#fn1-back) [ Breathe India: COVID-19 effect on Pollution](https://www.kaggle.com/parulpandey/breathe-india-covid-19-effect-on-pollution)<br>\n",
    "\n"
   ]
  },
  {
   "cell_type": "markdown",
   "metadata": {},
   "source": [
    "# Hypothesis\n"
   ]
  },
  {
   "cell_type": "markdown",
   "metadata": {},
   "source": [
    "*We hypothesize that COVID-19 has had an overall good effect from 2020-2022 on Air Quality based on AQI (Air Quality Index). We think that the pandemic has led to more WFH (work-from-home) and remote opportunities for the general population of California, thus changing the amount of air pollution caused by a reduction in car traffic via commuting. We acknowledge that there may be some confounding variables including regional industries, population per capita, and lockdown restrictions*"
   ]
  },
  {
   "cell_type": "markdown",
   "metadata": {},
   "source": [
    "# Dataset(s)"
   ]
  },
  {
   "cell_type": "markdown",
   "metadata": {},
   "source": [
    "Our ideal dataset would include:\n",
    "\n",
    "**Variables**: \n",
    "- Air Quality (AQI)\n",
    "- COVID-19 Rates\n",
    "- Population and Density\n",
    "- Job Titles\n",
    "\n",
    "**Possible Confouding Variables:**\n",
    "- Types of Industry in Regions\n",
    "- Population per Capita\n",
    "- Lockdown Restrictions\n",
    "\n",
    "**Observations:**\n",
    "- Years: 2017-2021\n",
    "- General Population: California, USA\n",
    "\n",
    "**How to Collect Data:**\n",
    "Use Kaggle, and the previously mentioned Datasets. \n",
    "\n",
    "**How to Store Data:**\n",
    "Pandas and Numpy for data organization and storage.\n"
   ]
  },
  {
   "cell_type": "markdown",
   "metadata": {},
   "source": [
    "# Ethics & Privacy"
   ]
  },
  {
   "cell_type": "markdown",
   "metadata": {},
   "source": [
    "**Do we have permission to use this data?**\n",
    "\n",
    "As all of the data we have collected is open to the public for fair use, our group has permission to use this data and for this purpose. All of our datasets for our variables: Air Quality, COVID-19 Rates, Tax Income, and Job Titles are from Kaggle, EPA and EIA. Which are all open to the public for viewing, education and for use. \n",
    "\n",
    "**Are there privacy concerns regarding your datasets that you need to deal with, and/or terms of use that you need to comply with?**\n",
    "\n",
    "The air quality data that will be used for our project was collected by AirNow, which is \"A partnership of the U.S. Environmental Protection Agency, National Oceanic and Atmospheric Administration (NOAA), National Park Service, NASA, Centers for Disease Control, and tribal, state, and local air quality agencies\"(1). This data is publicly available through government websites and is free from personally identifiable information, which protects us from many privacy concerns that we may otherwise need to be worried about. Given that none of the air quality data was ever associated with an individial, we believe that this would be safe to legally use. \n",
    "\n",
    "As for the data regarding industries across the state of California, any data we find regarding this will be cleaned and sorted to make sure that any personal identifying information that could associate any individuals with any particular job will be removed and anonymized. We are looking for this data through websites such as Kaggle or Our World in Data and through government websites that provide open-source, free use datasets, so we expect that we shouldn't run into too many complications with privacy, as much of the data has already been released to adhere to data privacy laws.\n",
    "\n",
    "**Are there potential biases in your dataset(s), in terms of who it composes, and how it was collected, that may be problematic in terms of it allowing for equitable analysis?**\n",
    "\n",
    "Looking ahead at the kind of datasets we will be using, it is possible that there could exist potential biases. In air quality data for the state of California, it is possible that some areas are underrepresented or misrepresented due to either a) a lack of adequate air quality measurement tools or b) air quality measurement tools being placed in non-ideal locations for a fair assessment of the actual air quality of the local region. Depending on the average wealth and population of the region, there could be a difference in care of how the data was gathered, which may lead to biased results.\n",
    "\n",
    "For data about industries in California, we will likely use census information or data gathered by a third party associating certain regions with certain industries, so the biases we must be cognizant of are who the data was collected by and for what purpose. We think that census data should be largely free of bias given that the point is simply gather information about the citizenry, but if we are looking into datasets collected by third parties, we must also be aware of why the data was gathered in the first place. If the data was gathered for a biased purpose, such as looking into which industries are \"best\" in California by an agricultural group, we should be wary of using that data because of the biases that may come with it. Thus, we will look into finding datasets that have data about California regional industries gathered for a non-biased purpose.\n",
    "\n",
    "**What will we be doing with this data?**\n",
    "\n",
    "We will be using this data only for the purpose of only our COGS 108 Final assignment. We do not intend to ever use this project for monetary use, this is strictly for educational purposes only.\n",
    "\n",
    "\n",
    "\n",
    "1) https://www.airnow.gov/about-airnow/"
   ]
  },
  {
   "cell_type": "markdown",
   "metadata": {},
   "source": [
    "# Team Expectations "
   ]
  },
  {
   "cell_type": "markdown",
   "metadata": {},
   "source": [
    "*Ava's Expectations:*\n",
    "I expect my teammates to be respectful, show up for the meetings, and do their part. As a team I also expect us to be considerate and patient.\n",
    "\n",
    "*Jonathan's Expectations:*\n",
    "I expect our group to have good communication throughout the project process. I understand that things can come up for everyone and work could be delayed, but as long as we are in clear communication with each other about our progress and the challenges we are facing, then I think we will do an amazing job.\n",
    "\n",
    "*Marc's Expectations:*\n",
    "I expect my group (including myself) will be responsible and committed to accomplish our project, and be able to coordinate properly for meetings, pair-programming sessions, and other team-involved tasks needed to be completed for our research question. I expect everybody will be respectful of one-another's skill-levels as well as understanding of other schoolwork and/or personal obligations, and be able to cooperate accordingly to get our tasks done.\n",
    "\n",
    "*Daniel's Expectations:* \n",
    "So far my expectations of the group have far exceeded anything I could have come up with. I don't have to worry about what my other group members do. Instead I have to worry about making sure my work and effort matches theirs.\n",
    "\n",
    "*Siena's Expectations:*\n",
    "I have expectations that we as a group will be responsible, hard-working and put time and energy into this project. So far, our communication has been splendid and while we've encountered some errors, things are going very well so far!\n",
    "\n"
   ]
  },
  {
   "cell_type": "markdown",
   "metadata": {},
   "source": [
    "# Project Timeline Proposal"
   ]
  },
  {
   "cell_type": "markdown",
   "metadata": {},
   "source": [
    "| Meeting Date  | Meeting Time| Completed Before Meeting  | Discuss at Meeting |\n",
    "|---|---|---|---|\n",
    "| 1/14  |  5 PM | Read & Think about COGS 108 expectations; brainstorm topics/questions  | Use and setup Discord and Email Communcations; Discuss and decide on final project topic; discuss hypothesis; begin background research | \n",
    "| 1/25  |  5 PM | Do background research on topic; Search for more Datasets | Discuss ideal dataset(s) and ethics; draft project proposal | \n",
    "| 1/27  | 5 PM  | Edit, finalize, and submit proposal | Discuss Wrangling and possible analytical approaches; Assign group members to lead each specific part |\n",
    "| 2/4  | 5 PM  | Import & Wrangle Data | Review/Edit wrangling/EDA; Discuss Analysis Plan   |\n",
    "| 2/11  | 5 PM  | Finalize wrangling/EDA; Begin Analysis | Discuss/edit Analysis; Complete project check-in |\n",
    "| 2/22  | 5 PM  | Complete analysis; Draft results/conclusion/discussion| Discuss/edit full project |\n",
    "| 3/08  | 5 PM  | Complete the last touches; Draft any last ideas| Discuss in a call all the final parts |\n",
    "| 3/19  | Before 11:59 PM  | NA | Turn in Final Project & Group Project Surveys |"
   ]
  },
  {
   "cell_type": "code",
   "execution_count": null,
   "metadata": {},
   "outputs": [],
   "source": []
  }
 ],
 "metadata": {
  "kernelspec": {
   "display_name": "Python 3 (ipykernel)",
   "language": "python",
   "name": "python3"
  },
  "language_info": {
   "codemirror_mode": {
    "name": "ipython",
    "version": 3
   },
   "file_extension": ".py",
   "mimetype": "text/x-python",
   "name": "python",
   "nbconvert_exporter": "python",
   "pygments_lexer": "ipython3",
   "version": "3.9.7"
  }
 },
 "nbformat": 4,
 "nbformat_minor": 4
}
